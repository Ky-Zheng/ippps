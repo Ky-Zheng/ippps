{
 "cells": [
  {
   "cell_type": "code",
   "execution_count": 68,
   "id": "8673a9cf",
   "metadata": {},
   "outputs": [],
   "source": [
    "import os\n",
    "import numpy as np\n",
    "import pandas as pd\n",
    "import tensorflow as tf\n",
    "from numpy import loadtxt\n",
    "from tensorflow.keras.models import Sequential\n",
    "from tensorflow.keras.layers import Dense\n",
    "from sklearn import preprocessing\n",
    "from sklearn.model_selection import train_test_split\n",
    "from keras.models import Sequential\n",
    "from keras.layers import Dense\n",
    "from sklearn.feature_extraction.text import CountVectorizer\n",
    "\n",
    "df = pd.read_csv(\"data.csv\")"
   ]
  },
  {
   "cell_type": "markdown",
   "id": "504464f1",
   "metadata": {},
   "source": [
    "# Data Cleaning & Vectorization"
   ]
  },
  {
   "cell_type": "code",
   "execution_count": 69,
   "id": "4bc98d5f",
   "metadata": {},
   "outputs": [],
   "source": [
    "# clean individual columns: regexp replace\n",
    "df = df.replace('\\sand\\s|[-\\s&]','', regex=True)\n",
    "str_cols = ['artist','title']\n",
    "df[str_cols] = df[str_cols].apply(lambda x: x.str.lower())\n",
    "\n",
    "# append all columns\n",
    "def get_non_null(x):\n",
    "    l = set(sorted([str(v).lower() for v in x if v != None]))\n",
    "    l = [x for x in l if x != 'nan']\n",
    "    if l:\n",
    "        return ' '.join(list(l))\n",
    "    else:\n",
    "        return ''\n",
    "    \n",
    "df['string_cols'] = df[str_cols].apply(lambda x:get_non_null(x), axis=1)\n",
    "vectorizer = CountVectorizer()\n",
    "vectorizer.fit(df['string_cols'])\n",
    "\n",
    "# Encode the Document\n",
    "vec = vectorizer.transform(df['string_cols']).toarray()\n",
    "vec_sum = np.sum(vec, axis=1)\n",
    "\n",
    "# add to df\n",
    "tmp = pd.DataFrame(vec.tolist(), columns=[f'V{x}' for x in range(vec.shape[1])])\n",
    "#tmp['vec_len'] = vec_sum\n",
    "new_df = pd.concat([df[['price','date','dimensions_h','dimensions_l']], tmp], axis = 1)\n"
   ]
  },
  {
   "cell_type": "markdown",
   "id": "d11f3d2d",
   "metadata": {},
   "source": [
    "# NN model"
   ]
  },
  {
   "cell_type": "code",
   "execution_count": 70,
   "id": "d3e46a57",
   "metadata": {},
   "outputs": [],
   "source": [
    "# split into input (X) and output (y) variables\n",
    "X = new_df.iloc[:,1:]\n",
    "y = new_df.iloc[:,0]\n",
    "\n",
    "min_max_scaler = preprocessing.MinMaxScaler()\n",
    "X_scale = min_max_scaler.fit_transform(X)\n",
    "\n",
    "X_train, X_val, Y_train, Y_val = train_test_split(X_scale, y, test_size=0.3)\n"
   ]
  },
  {
   "cell_type": "code",
   "execution_count": 71,
   "id": "1becffc2",
   "metadata": {},
   "outputs": [],
   "source": [
    "model = Sequential([\n",
    "    Dense(32, activation='relu', input_shape=(80,)),\n",
    "    Dense(32, activation='relu'),\n",
    "    Dense(32, activation='relu'),\n",
    "    Dense(1, activation='sigmoid'),\n",
    "])"
   ]
  },
  {
   "cell_type": "code",
   "execution_count": 75,
   "id": "b7e9c76e",
   "metadata": {},
   "outputs": [],
   "source": [
    "model.compile(optimizer='adam',\n",
    "              loss='mse',\n",
    "              metrics=[tf.keras.metrics.MeanSquaredError()])"
   ]
  },
  {
   "cell_type": "code",
   "execution_count": 76,
   "id": "1dcb3495",
   "metadata": {
    "scrolled": true
   },
   "outputs": [
    {
     "name": "stdout",
     "output_type": "stream",
     "text": [
      "Epoch 1/100\n",
      "2/2 [==============================] - 1s 114ms/step - loss: 4677312800882688.0000 - mean_squared_error: 4677312800882688.0000 - val_loss: 2239348703494144.0000 - val_mean_squared_error: 2239348703494144.0000\n",
      "Epoch 2/100\n",
      "2/2 [==============================] - 0s 23ms/step - loss: 4677312264011776.0000 - mean_squared_error: 4677312264011776.0000 - val_loss: 2239348703494144.0000 - val_mean_squared_error: 2239348703494144.0000\n",
      "Epoch 3/100\n",
      "2/2 [==============================] - 0s 21ms/step - loss: 4677312264011776.0000 - mean_squared_error: 4677312264011776.0000 - val_loss: 2239348703494144.0000 - val_mean_squared_error: 2239348703494144.0000\n",
      "Epoch 4/100\n",
      "2/2 [==============================] - 0s 21ms/step - loss: 4677312800882688.0000 - mean_squared_error: 4677312800882688.0000 - val_loss: 2239348703494144.0000 - val_mean_squared_error: 2239348703494144.0000\n",
      "Epoch 5/100\n",
      "2/2 [==============================] - 0s 20ms/step - loss: 4677311727140864.0000 - mean_squared_error: 4677311727140864.0000 - val_loss: 2239348703494144.0000 - val_mean_squared_error: 2239348703494144.0000\n",
      "Epoch 6/100\n",
      "2/2 [==============================] - 0s 20ms/step - loss: 4677311727140864.0000 - mean_squared_error: 4677311727140864.0000 - val_loss: 2239348703494144.0000 - val_mean_squared_error: 2239348703494144.0000\n",
      "Epoch 7/100\n",
      "2/2 [==============================] - 0s 22ms/step - loss: 4677312264011776.0000 - mean_squared_error: 4677312264011776.0000 - val_loss: 2239348703494144.0000 - val_mean_squared_error: 2239348703494144.0000\n",
      "Epoch 8/100\n",
      "2/2 [==============================] - 0s 23ms/step - loss: 4677312264011776.0000 - mean_squared_error: 4677312264011776.0000 - val_loss: 2239348703494144.0000 - val_mean_squared_error: 2239348703494144.0000\n",
      "Epoch 9/100\n",
      "2/2 [==============================] - 0s 21ms/step - loss: 4677312264011776.0000 - mean_squared_error: 4677312264011776.0000 - val_loss: 2239348703494144.0000 - val_mean_squared_error: 2239348703494144.0000\n",
      "Epoch 10/100\n",
      "2/2 [==============================] - 0s 23ms/step - loss: 4677312800882688.0000 - mean_squared_error: 4677312800882688.0000 - val_loss: 2239348703494144.0000 - val_mean_squared_error: 2239348703494144.0000\n",
      "Epoch 11/100\n",
      "2/2 [==============================] - 0s 21ms/step - loss: 4677312264011776.0000 - mean_squared_error: 4677312264011776.0000 - val_loss: 2239348703494144.0000 - val_mean_squared_error: 2239348703494144.0000\n",
      "Epoch 12/100\n",
      "2/2 [==============================] - 0s 23ms/step - loss: 4677312264011776.0000 - mean_squared_error: 4677312264011776.0000 - val_loss: 2239348703494144.0000 - val_mean_squared_error: 2239348703494144.0000\n",
      "Epoch 13/100\n",
      "2/2 [==============================] - 0s 23ms/step - loss: 4677312264011776.0000 - mean_squared_error: 4677312264011776.0000 - val_loss: 2239348703494144.0000 - val_mean_squared_error: 2239348703494144.0000\n",
      "Epoch 14/100\n",
      "2/2 [==============================] - 0s 22ms/step - loss: 4677312264011776.0000 - mean_squared_error: 4677312264011776.0000 - val_loss: 2239348703494144.0000 - val_mean_squared_error: 2239348703494144.0000\n",
      "Epoch 15/100\n",
      "2/2 [==============================] - 0s 21ms/step - loss: 4677311727140864.0000 - mean_squared_error: 4677311727140864.0000 - val_loss: 2239348703494144.0000 - val_mean_squared_error: 2239348703494144.0000\n",
      "Epoch 16/100\n",
      "2/2 [==============================] - 0s 22ms/step - loss: 4677312264011776.0000 - mean_squared_error: 4677312264011776.0000 - val_loss: 2239348703494144.0000 - val_mean_squared_error: 2239348703494144.0000\n",
      "Epoch 17/100\n",
      "2/2 [==============================] - 0s 21ms/step - loss: 4677311727140864.0000 - mean_squared_error: 4677311727140864.0000 - val_loss: 2239348703494144.0000 - val_mean_squared_error: 2239348703494144.0000\n",
      "Epoch 18/100\n",
      "2/2 [==============================] - 0s 21ms/step - loss: 4677312264011776.0000 - mean_squared_error: 4677312264011776.0000 - val_loss: 2239348703494144.0000 - val_mean_squared_error: 2239348703494144.0000\n",
      "Epoch 19/100\n",
      "2/2 [==============================] - 0s 20ms/step - loss: 4677312264011776.0000 - mean_squared_error: 4677312264011776.0000 - val_loss: 2239348703494144.0000 - val_mean_squared_error: 2239348703494144.0000\n",
      "Epoch 20/100\n",
      "2/2 [==============================] - 0s 21ms/step - loss: 4677312264011776.0000 - mean_squared_error: 4677312264011776.0000 - val_loss: 2239348703494144.0000 - val_mean_squared_error: 2239348703494144.0000\n",
      "Epoch 21/100\n",
      "2/2 [==============================] - 0s 21ms/step - loss: 4677312264011776.0000 - mean_squared_error: 4677312264011776.0000 - val_loss: 2239348703494144.0000 - val_mean_squared_error: 2239348703494144.0000\n",
      "Epoch 22/100\n",
      "2/2 [==============================] - 0s 21ms/step - loss: 4677312264011776.0000 - mean_squared_error: 4677312264011776.0000 - val_loss: 2239348703494144.0000 - val_mean_squared_error: 2239348703494144.0000\n",
      "Epoch 23/100\n",
      "2/2 [==============================] - 0s 22ms/step - loss: 4677312800882688.0000 - mean_squared_error: 4677312264011776.0000 - val_loss: 2239348703494144.0000 - val_mean_squared_error: 2239348703494144.0000\n",
      "Epoch 24/100\n",
      "2/2 [==============================] - 0s 23ms/step - loss: 4677312264011776.0000 - mean_squared_error: 4677312264011776.0000 - val_loss: 2239348703494144.0000 - val_mean_squared_error: 2239348703494144.0000\n",
      "Epoch 25/100\n",
      "2/2 [==============================] - 0s 21ms/step - loss: 4677312264011776.0000 - mean_squared_error: 4677312264011776.0000 - val_loss: 2239348703494144.0000 - val_mean_squared_error: 2239348703494144.0000\n",
      "Epoch 26/100\n",
      "2/2 [==============================] - 0s 23ms/step - loss: 4677311727140864.0000 - mean_squared_error: 4677311727140864.0000 - val_loss: 2239348703494144.0000 - val_mean_squared_error: 2239348703494144.0000\n",
      "Epoch 27/100\n",
      "2/2 [==============================] - 0s 23ms/step - loss: 4677312264011776.0000 - mean_squared_error: 4677312264011776.0000 - val_loss: 2239348703494144.0000 - val_mean_squared_error: 2239348703494144.0000\n",
      "Epoch 28/100\n",
      "2/2 [==============================] - 0s 21ms/step - loss: 4677311727140864.0000 - mean_squared_error: 4677311727140864.0000 - val_loss: 2239348703494144.0000 - val_mean_squared_error: 2239348703494144.0000\n",
      "Epoch 29/100\n",
      "2/2 [==============================] - 0s 22ms/step - loss: 4677312264011776.0000 - mean_squared_error: 4677312264011776.0000 - val_loss: 2239348703494144.0000 - val_mean_squared_error: 2239348703494144.0000\n",
      "Epoch 30/100\n",
      "2/2 [==============================] - 0s 22ms/step - loss: 4677311727140864.0000 - mean_squared_error: 4677311727140864.0000 - val_loss: 2239348703494144.0000 - val_mean_squared_error: 2239348703494144.0000\n",
      "Epoch 31/100\n",
      "2/2 [==============================] - 0s 22ms/step - loss: 4677312264011776.0000 - mean_squared_error: 4677312264011776.0000 - val_loss: 2239348703494144.0000 - val_mean_squared_error: 2239348703494144.0000\n",
      "Epoch 32/100\n",
      "2/2 [==============================] - 0s 23ms/step - loss: 4677312264011776.0000 - mean_squared_error: 4677312264011776.0000 - val_loss: 2239348703494144.0000 - val_mean_squared_error: 2239348703494144.0000\n",
      "Epoch 33/100\n",
      "2/2 [==============================] - 0s 23ms/step - loss: 4677312800882688.0000 - mean_squared_error: 4677312800882688.0000 - val_loss: 2239348703494144.0000 - val_mean_squared_error: 2239348703494144.0000\n",
      "Epoch 34/100\n",
      "2/2 [==============================] - 0s 22ms/step - loss: 4677311727140864.0000 - mean_squared_error: 4677311727140864.0000 - val_loss: 2239348703494144.0000 - val_mean_squared_error: 2239348703494144.0000\n",
      "Epoch 35/100\n",
      "2/2 [==============================] - 0s 22ms/step - loss: 4677311727140864.0000 - mean_squared_error: 4677311727140864.0000 - val_loss: 2239348703494144.0000 - val_mean_squared_error: 2239348703494144.0000\n",
      "Epoch 36/100\n",
      "2/2 [==============================] - 0s 20ms/step - loss: 4677312264011776.0000 - mean_squared_error: 4677312264011776.0000 - val_loss: 2239348703494144.0000 - val_mean_squared_error: 2239348703494144.0000\n",
      "Epoch 37/100\n",
      "2/2 [==============================] - 0s 23ms/step - loss: 4677312264011776.0000 - mean_squared_error: 4677312264011776.0000 - val_loss: 2239348703494144.0000 - val_mean_squared_error: 2239348703494144.0000\n",
      "Epoch 38/100\n"
     ]
    },
    {
     "name": "stdout",
     "output_type": "stream",
     "text": [
      "2/2 [==============================] - 0s 21ms/step - loss: 4677312264011776.0000 - mean_squared_error: 4677312264011776.0000 - val_loss: 2239348703494144.0000 - val_mean_squared_error: 2239348703494144.0000\n",
      "Epoch 39/100\n",
      "2/2 [==============================] - 0s 21ms/step - loss: 4677311190269952.0000 - mean_squared_error: 4677311190269952.0000 - val_loss: 2239348703494144.0000 - val_mean_squared_error: 2239348703494144.0000\n",
      "Epoch 40/100\n",
      "2/2 [==============================] - 0s 23ms/step - loss: 4677311727140864.0000 - mean_squared_error: 4677311727140864.0000 - val_loss: 2239348703494144.0000 - val_mean_squared_error: 2239348703494144.0000\n",
      "Epoch 41/100\n",
      "2/2 [==============================] - 0s 21ms/step - loss: 4677312264011776.0000 - mean_squared_error: 4677312264011776.0000 - val_loss: 2239348703494144.0000 - val_mean_squared_error: 2239348703494144.0000\n",
      "Epoch 42/100\n",
      "2/2 [==============================] - 0s 23ms/step - loss: 4677312264011776.0000 - mean_squared_error: 4677312264011776.0000 - val_loss: 2239348703494144.0000 - val_mean_squared_error: 2239348703494144.0000\n",
      "Epoch 43/100\n",
      "2/2 [==============================] - 0s 21ms/step - loss: 4677312800882688.0000 - mean_squared_error: 4677312800882688.0000 - val_loss: 2239348703494144.0000 - val_mean_squared_error: 2239348703494144.0000\n",
      "Epoch 44/100\n",
      "2/2 [==============================] - 0s 22ms/step - loss: 4677312264011776.0000 - mean_squared_error: 4677312264011776.0000 - val_loss: 2239348703494144.0000 - val_mean_squared_error: 2239348703494144.0000\n",
      "Epoch 45/100\n",
      "2/2 [==============================] - 0s 21ms/step - loss: 4677312800882688.0000 - mean_squared_error: 4677312800882688.0000 - val_loss: 2239348703494144.0000 - val_mean_squared_error: 2239348703494144.0000\n",
      "Epoch 46/100\n",
      "2/2 [==============================] - 0s 21ms/step - loss: 4677312264011776.0000 - mean_squared_error: 4677312264011776.0000 - val_loss: 2239348703494144.0000 - val_mean_squared_error: 2239348703494144.0000\n",
      "Epoch 47/100\n",
      "2/2 [==============================] - 0s 23ms/step - loss: 4677312264011776.0000 - mean_squared_error: 4677312264011776.0000 - val_loss: 2239348703494144.0000 - val_mean_squared_error: 2239348703494144.0000\n",
      "Epoch 48/100\n",
      "2/2 [==============================] - 0s 21ms/step - loss: 4677312264011776.0000 - mean_squared_error: 4677312264011776.0000 - val_loss: 2239348703494144.0000 - val_mean_squared_error: 2239348703494144.0000\n",
      "Epoch 49/100\n",
      "2/2 [==============================] - 0s 27ms/step - loss: 4677311727140864.0000 - mean_squared_error: 4677311727140864.0000 - val_loss: 2239348703494144.0000 - val_mean_squared_error: 2239348703494144.0000\n",
      "Epoch 50/100\n",
      "2/2 [==============================] - 0s 38ms/step - loss: 4677312264011776.0000 - mean_squared_error: 4677312264011776.0000 - val_loss: 2239348703494144.0000 - val_mean_squared_error: 2239348703494144.0000\n",
      "Epoch 51/100\n",
      "2/2 [==============================] - 0s 32ms/step - loss: 4677311727140864.0000 - mean_squared_error: 4677311727140864.0000 - val_loss: 2239348703494144.0000 - val_mean_squared_error: 2239348703494144.0000\n",
      "Epoch 52/100\n",
      "2/2 [==============================] - 0s 32ms/step - loss: 4677312264011776.0000 - mean_squared_error: 4677312264011776.0000 - val_loss: 2239348703494144.0000 - val_mean_squared_error: 2239348703494144.0000\n",
      "Epoch 53/100\n",
      "2/2 [==============================] - 0s 33ms/step - loss: 4677312264011776.0000 - mean_squared_error: 4677312264011776.0000 - val_loss: 2239348703494144.0000 - val_mean_squared_error: 2239348703494144.0000\n",
      "Epoch 54/100\n",
      "2/2 [==============================] - 0s 26ms/step - loss: 4677311727140864.0000 - mean_squared_error: 4677311727140864.0000 - val_loss: 2239348703494144.0000 - val_mean_squared_error: 2239348703494144.0000\n",
      "Epoch 55/100\n",
      "2/2 [==============================] - 0s 22ms/step - loss: 4677311727140864.0000 - mean_squared_error: 4677311727140864.0000 - val_loss: 2239348703494144.0000 - val_mean_squared_error: 2239348703494144.0000\n",
      "Epoch 56/100\n",
      "2/2 [==============================] - 0s 22ms/step - loss: 4677312800882688.0000 - mean_squared_error: 4677312800882688.0000 - val_loss: 2239348703494144.0000 - val_mean_squared_error: 2239348703494144.0000\n",
      "Epoch 57/100\n",
      "2/2 [==============================] - 0s 22ms/step - loss: 4677312264011776.0000 - mean_squared_error: 4677312264011776.0000 - val_loss: 2239348703494144.0000 - val_mean_squared_error: 2239348703494144.0000\n",
      "Epoch 58/100\n",
      "2/2 [==============================] - 0s 20ms/step - loss: 4677312264011776.0000 - mean_squared_error: 4677312264011776.0000 - val_loss: 2239348703494144.0000 - val_mean_squared_error: 2239348703494144.0000\n",
      "Epoch 59/100\n",
      "2/2 [==============================] - 0s 22ms/step - loss: 4677312264011776.0000 - mean_squared_error: 4677312264011776.0000 - val_loss: 2239348703494144.0000 - val_mean_squared_error: 2239348703494144.0000\n",
      "Epoch 60/100\n",
      "2/2 [==============================] - 0s 20ms/step - loss: 4677312264011776.0000 - mean_squared_error: 4677312264011776.0000 - val_loss: 2239348703494144.0000 - val_mean_squared_error: 2239348703494144.0000\n",
      "Epoch 61/100\n",
      "2/2 [==============================] - 0s 21ms/step - loss: 4677311727140864.0000 - mean_squared_error: 4677311727140864.0000 - val_loss: 2239348703494144.0000 - val_mean_squared_error: 2239348703494144.0000\n",
      "Epoch 62/100\n",
      "2/2 [==============================] - 0s 21ms/step - loss: 4677312800882688.0000 - mean_squared_error: 4677312800882688.0000 - val_loss: 2239348703494144.0000 - val_mean_squared_error: 2239348703494144.0000\n",
      "Epoch 63/100\n",
      "2/2 [==============================] - 0s 20ms/step - loss: 4677311727140864.0000 - mean_squared_error: 4677311727140864.0000 - val_loss: 2239348703494144.0000 - val_mean_squared_error: 2239348703494144.0000\n",
      "Epoch 64/100\n",
      "2/2 [==============================] - 0s 20ms/step - loss: 4677312264011776.0000 - mean_squared_error: 4677312264011776.0000 - val_loss: 2239348703494144.0000 - val_mean_squared_error: 2239348703494144.0000\n",
      "Epoch 65/100\n",
      "2/2 [==============================] - 0s 19ms/step - loss: 4677312264011776.0000 - mean_squared_error: 4677312264011776.0000 - val_loss: 2239348703494144.0000 - val_mean_squared_error: 2239348703494144.0000\n",
      "Epoch 66/100\n",
      "2/2 [==============================] - 0s 22ms/step - loss: 4677312264011776.0000 - mean_squared_error: 4677312264011776.0000 - val_loss: 2239348703494144.0000 - val_mean_squared_error: 2239348703494144.0000\n",
      "Epoch 67/100\n",
      "2/2 [==============================] - 0s 20ms/step - loss: 4677311727140864.0000 - mean_squared_error: 4677311727140864.0000 - val_loss: 2239348703494144.0000 - val_mean_squared_error: 2239348703494144.0000\n",
      "Epoch 68/100\n",
      "2/2 [==============================] - 0s 20ms/step - loss: 4677311727140864.0000 - mean_squared_error: 4677311727140864.0000 - val_loss: 2239348703494144.0000 - val_mean_squared_error: 2239348703494144.0000\n",
      "Epoch 69/100\n",
      "2/2 [==============================] - 0s 20ms/step - loss: 4677312264011776.0000 - mean_squared_error: 4677312264011776.0000 - val_loss: 2239348703494144.0000 - val_mean_squared_error: 2239348703494144.0000\n",
      "Epoch 70/100\n",
      "2/2 [==============================] - 0s 22ms/step - loss: 4677312264011776.0000 - mean_squared_error: 4677312264011776.0000 - val_loss: 2239348703494144.0000 - val_mean_squared_error: 2239348703494144.0000\n",
      "Epoch 71/100\n",
      "2/2 [==============================] - 0s 21ms/step - loss: 4677311727140864.0000 - mean_squared_error: 4677311727140864.0000 - val_loss: 2239348703494144.0000 - val_mean_squared_error: 2239348703494144.0000\n",
      "Epoch 72/100\n",
      "2/2 [==============================] - 0s 21ms/step - loss: 4677312264011776.0000 - mean_squared_error: 4677312264011776.0000 - val_loss: 2239348703494144.0000 - val_mean_squared_error: 2239348703494144.0000\n",
      "Epoch 73/100\n",
      "2/2 [==============================] - 0s 19ms/step - loss: 4677311727140864.0000 - mean_squared_error: 4677311727140864.0000 - val_loss: 2239348703494144.0000 - val_mean_squared_error: 2239348703494144.0000\n",
      "Epoch 74/100\n",
      "2/2 [==============================] - 0s 20ms/step - loss: 4677312800882688.0000 - mean_squared_error: 4677312800882688.0000 - val_loss: 2239348703494144.0000 - val_mean_squared_error: 2239348703494144.0000\n",
      "Epoch 75/100\n"
     ]
    },
    {
     "name": "stdout",
     "output_type": "stream",
     "text": [
      "2/2 [==============================] - 0s 21ms/step - loss: 4677311727140864.0000 - mean_squared_error: 4677311727140864.0000 - val_loss: 2239348703494144.0000 - val_mean_squared_error: 2239348703494144.0000\n",
      "Epoch 76/100\n",
      "2/2 [==============================] - 0s 20ms/step - loss: 4677312264011776.0000 - mean_squared_error: 4677312264011776.0000 - val_loss: 2239348703494144.0000 - val_mean_squared_error: 2239348703494144.0000\n",
      "Epoch 77/100\n",
      "2/2 [==============================] - 0s 21ms/step - loss: 4677312264011776.0000 - mean_squared_error: 4677312264011776.0000 - val_loss: 2239348703494144.0000 - val_mean_squared_error: 2239348703494144.0000\n",
      "Epoch 78/100\n",
      "2/2 [==============================] - 0s 21ms/step - loss: 4677311727140864.0000 - mean_squared_error: 4677311727140864.0000 - val_loss: 2239348703494144.0000 - val_mean_squared_error: 2239348703494144.0000\n",
      "Epoch 79/100\n",
      "2/2 [==============================] - 0s 20ms/step - loss: 4677312264011776.0000 - mean_squared_error: 4677312264011776.0000 - val_loss: 2239348703494144.0000 - val_mean_squared_error: 2239348703494144.0000\n",
      "Epoch 80/100\n",
      "2/2 [==============================] - 0s 21ms/step - loss: 4677311727140864.0000 - mean_squared_error: 4677312264011776.0000 - val_loss: 2239348703494144.0000 - val_mean_squared_error: 2239348703494144.0000\n",
      "Epoch 81/100\n",
      "2/2 [==============================] - 0s 21ms/step - loss: 4677312264011776.0000 - mean_squared_error: 4677312264011776.0000 - val_loss: 2239348703494144.0000 - val_mean_squared_error: 2239348703494144.0000\n",
      "Epoch 82/100\n",
      "2/2 [==============================] - 0s 25ms/step - loss: 4677311727140864.0000 - mean_squared_error: 4677311727140864.0000 - val_loss: 2239348703494144.0000 - val_mean_squared_error: 2239348703494144.0000\n",
      "Epoch 83/100\n",
      "2/2 [==============================] - 0s 25ms/step - loss: 4677312264011776.0000 - mean_squared_error: 4677312264011776.0000 - val_loss: 2239348703494144.0000 - val_mean_squared_error: 2239348703494144.0000\n",
      "Epoch 84/100\n",
      "2/2 [==============================] - 0s 21ms/step - loss: 4677312264011776.0000 - mean_squared_error: 4677312264011776.0000 - val_loss: 2239348703494144.0000 - val_mean_squared_error: 2239348703494144.0000\n",
      "Epoch 85/100\n",
      "2/2 [==============================] - 0s 22ms/step - loss: 4677312264011776.0000 - mean_squared_error: 4677312264011776.0000 - val_loss: 2239348703494144.0000 - val_mean_squared_error: 2239348703494144.0000\n",
      "Epoch 86/100\n",
      "2/2 [==============================] - 0s 24ms/step - loss: 4677312264011776.0000 - mean_squared_error: 4677312264011776.0000 - val_loss: 2239348703494144.0000 - val_mean_squared_error: 2239348703494144.0000\n",
      "Epoch 87/100\n",
      "2/2 [==============================] - 0s 23ms/step - loss: 4677311727140864.0000 - mean_squared_error: 4677311727140864.0000 - val_loss: 2239348703494144.0000 - val_mean_squared_error: 2239348703494144.0000\n",
      "Epoch 88/100\n",
      "2/2 [==============================] - 0s 25ms/step - loss: 4677312264011776.0000 - mean_squared_error: 4677312264011776.0000 - val_loss: 2239348703494144.0000 - val_mean_squared_error: 2239348703494144.0000\n",
      "Epoch 89/100\n",
      "2/2 [==============================] - 0s 22ms/step - loss: 4677312264011776.0000 - mean_squared_error: 4677312264011776.0000 - val_loss: 2239348703494144.0000 - val_mean_squared_error: 2239348703494144.0000\n",
      "Epoch 90/100\n",
      "2/2 [==============================] - 0s 21ms/step - loss: 4677311727140864.0000 - mean_squared_error: 4677311727140864.0000 - val_loss: 2239348703494144.0000 - val_mean_squared_error: 2239348703494144.0000\n",
      "Epoch 91/100\n",
      "2/2 [==============================] - 0s 22ms/step - loss: 4677312264011776.0000 - mean_squared_error: 4677312264011776.0000 - val_loss: 2239348703494144.0000 - val_mean_squared_error: 2239348703494144.0000\n",
      "Epoch 92/100\n",
      "2/2 [==============================] - 0s 22ms/step - loss: 4677312264011776.0000 - mean_squared_error: 4677312264011776.0000 - val_loss: 2239348703494144.0000 - val_mean_squared_error: 2239348703494144.0000\n",
      "Epoch 93/100\n",
      "2/2 [==============================] - 0s 25ms/step - loss: 4677312264011776.0000 - mean_squared_error: 4677312264011776.0000 - val_loss: 2239348703494144.0000 - val_mean_squared_error: 2239348703494144.0000\n",
      "Epoch 94/100\n",
      "2/2 [==============================] - 0s 22ms/step - loss: 4677311727140864.0000 - mean_squared_error: 4677311727140864.0000 - val_loss: 2239348703494144.0000 - val_mean_squared_error: 2239348703494144.0000\n",
      "Epoch 95/100\n",
      "2/2 [==============================] - 0s 20ms/step - loss: 4677312264011776.0000 - mean_squared_error: 4677312264011776.0000 - val_loss: 2239348703494144.0000 - val_mean_squared_error: 2239348703494144.0000\n",
      "Epoch 96/100\n",
      "2/2 [==============================] - 0s 24ms/step - loss: 4677312264011776.0000 - mean_squared_error: 4677312264011776.0000 - val_loss: 2239348703494144.0000 - val_mean_squared_error: 2239348703494144.0000\n",
      "Epoch 97/100\n",
      "2/2 [==============================] - 0s 25ms/step - loss: 4677312264011776.0000 - mean_squared_error: 4677312264011776.0000 - val_loss: 2239348703494144.0000 - val_mean_squared_error: 2239348703494144.0000\n",
      "Epoch 98/100\n",
      "2/2 [==============================] - 0s 22ms/step - loss: 4677312264011776.0000 - mean_squared_error: 4677312264011776.0000 - val_loss: 2239348703494144.0000 - val_mean_squared_error: 2239348703494144.0000\n",
      "Epoch 99/100\n",
      "2/2 [==============================] - 0s 23ms/step - loss: 4677312264011776.0000 - mean_squared_error: 4677312264011776.0000 - val_loss: 2239348703494144.0000 - val_mean_squared_error: 2239348703494144.0000\n",
      "Epoch 100/100\n",
      "2/2 [==============================] - 0s 20ms/step - loss: 4677311727140864.0000 - mean_squared_error: 4677311727140864.0000 - val_loss: 2239348703494144.0000 - val_mean_squared_error: 2239348703494144.0000\n"
     ]
    }
   ],
   "source": [
    "hist = model.fit(X_train, Y_train,\n",
    "          batch_size=32, epochs=100,\n",
    "          validation_data=(X_val, Y_val))"
   ]
  },
  {
   "cell_type": "code",
   "execution_count": 77,
   "id": "190207b2",
   "metadata": {},
   "outputs": [
    {
     "data": {
      "image/png": "[encoded data removed]",
      "text/plain": [
       "<Figure size 640x480 with 1 Axes>"
      ]
     },
     "metadata": {},
     "output_type": "display_data"
    }
   ],
   "source": [
    "import matplotlib.pyplot as plt\n",
    "plt.plot(hist.history['loss'])\n",
    "plt.plot(hist.history['val_loss'])\n",
    "plt.title('Model loss')\n",
    "plt.ylabel('Loss')\n",
    "plt.xlabel('Epoch')\n",
    "plt.legend(['Train', 'Val'], loc='upper right')\n",
    "plt.show()"
   ]
  },
  {
   "cell_type": "code",
   "execution_count": 78,
   "id": "4bf4e16e",
   "metadata": {},
   "outputs": [
    {
     "data": {
      "image/png": "[encoded data removed]",
      "text/plain": [
       "<Figure size 640x480 with 1 Axes>"
      ]
     },
     "metadata": {},
     "output_type": "display_data"
    }
   ],
   "source": [
    "plt.plot(hist.history['mean_squared_error'])\n",
    "plt.plot(hist.history['val_mean_squared_error'])\n",
    "plt.title('Model MSE')\n",
    "plt.ylabel('MSE')\n",
    "plt.xlabel('Epoch')\n",
    "plt.legend(['Train', 'Val'], loc='lower right')\n",
    "plt.show()"
   ]
  }
 ],
 "metadata": {
  "kernelspec": {
   "display_name": "Python 3",
   "language": "python",
   "name": "python3"
  },
  "language_info": {
   "codemirror_mode": {
    "name": "ipython",
    "version": 3
   },
   "file_extension": ".py",
   "mimetype": "text/x-python",
   "name": "python",
   "nbconvert_exporter": "python",
   "pygments_lexer": "ipython3",
   "version": "3.9.6"
  },
  "vscode": {
   "interpreter": {
    "hash": "31f2aee4e71d21fbe5cf8b01ff0e069b9275f58929596ceb00d14d90e3e16cd6"
   }
  }
 },
 "nbformat": 4,
 "nbformat_minor": 5
}
